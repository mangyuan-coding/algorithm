{
 "cells": [
  {
   "cell_type": "code",
   "execution_count": 5,
   "metadata": {},
   "outputs": [
    {
     "name": "stdout",
     "output_type": "stream",
     "text": [
      "[1, 2]\n"
     ]
    }
   ],
   "source": [
    "from typing import List\n",
    "# @lc code=start\n",
    "\n",
    "\n",
    "class Solution:\n",
    "    def twoSum(self, nums: List[int], target: int) -> List[int]:\n",
    "        for i in range(len(nums)):\n",
    "            remain = target - nums[i]\n",
    "            if remain in nums[i + 1:]:\n",
    "                return [i, nums[i + 1:].index(remain) + i + 1]\n",
    "\n",
    "\n",
    "solution = Solution()\n",
    "ret = solution.twoSum([3, 2, 4], 6)\n",
    "print(ret)"
   ]
  },
  {
   "cell_type": "code",
   "execution_count": 8,
   "metadata": {},
   "outputs": [
    {
     "name": "stdout",
     "output_type": "stream",
     "text": [
      "2.5\n"
     ]
    }
   ],
   "source": [
    "from typing import List\n",
    "\n",
    "class Solution:\n",
    "    def findSingleSortedArrays(self, nums: List[int]) -> float:\n",
    "        n = len(nums)\n",
    "        if n == 1:\n",
    "            return nums[0]\n",
    "        elif n % 2 == 0:\n",
    "            return (nums[n // 2 - 1] + nums[n // 2]) / 2\n",
    "        else:\n",
    "            return nums[n // 2]\n",
    "        \n",
    "    def findMedianSortedArrays(self, nums1: List[int], nums2: List[int]) -> float:\n",
    "        n1 = len(nums1); n2 = len(nums2)\n",
    "\n",
    "        if n1 == 0: return self.findSingleSortedArrays(nums2)\n",
    "        if n2 == 0: return self.findSingleSortedArrays(nums1)\n",
    "\n",
    "        if n1 == 1 and n2 == 1: return (nums1[0] + nums2[0]) / 2;\n",
    "\n",
    "        maxNums = nums1 if nums1[n1 - 1] > nums2[n2 - 1] else nums2\n",
    "        minNums = nums1 if nums1[0] < nums2[0] else nums2\n",
    "        \n",
    "        if (maxNums is minNums) & (len(maxNums) == 2): \n",
    "            return self.findSingleSortedArrays(nums1 if maxNums is nums2 else nums2);\n",
    "\n",
    "        splitNums1 = nums1\n",
    "        splitNums2 = nums2\n",
    "\n",
    "        if maxNums is nums1:\n",
    "            splitNums1 = splitNums1[:-1:]\n",
    "        else:\n",
    "            splitNums2 = splitNums2[:-1:]\n",
    "        if minNums is nums1:\n",
    "            splitNums1 = splitNums1[1:]\n",
    "        else:\n",
    "            splitNums2 = splitNums2[1:]\n",
    "\n",
    "        return self.findMedianSortedArrays(splitNums1, splitNums2)\n",
    "\n",
    "        \n",
    "\n",
    "\n",
    "\n",
    "solution = Solution()\n",
    "ret = solution.findMedianSortedArrays([1, 3, 4], [2])\n",
    "print(ret)\n"
   ]
  },
  {
   "cell_type": "code",
   "execution_count": 28,
   "metadata": {},
   "outputs": [
    {
     "name": "stdout",
     "output_type": "stream",
     "text": [
      "<class 'float'>\n"
     ]
    }
   ],
   "source": [
    "\n",
    "        "
   ]
  }
 ],
 "metadata": {
  "kernelspec": {
   "display_name": ".venv",
   "language": "python",
   "name": "python3"
  },
  "language_info": {
   "codemirror_mode": {
    "name": "ipython",
    "version": 3
   },
   "file_extension": ".py",
   "mimetype": "text/x-python",
   "name": "python",
   "nbconvert_exporter": "python",
   "pygments_lexer": "ipython3",
   "version": "3.11.3"
  },
  "orig_nbformat": 4
 },
 "nbformat": 4,
 "nbformat_minor": 2
}
