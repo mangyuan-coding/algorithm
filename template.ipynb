{
 "cells": [
  {
   "cell_type": "code",
   "execution_count": 5,
   "metadata": {},
   "outputs": [
    {
     "name": "stdout",
     "output_type": "stream",
     "text": [
      "[1, 2]\n"
     ]
    }
   ],
   "source": [
    "from typing import List\n",
    "# @lc code=start\n",
    "\n",
    "\n",
    "class Solution:\n",
    "    def twoSum(self, nums: List[int], target: int) -> List[int]:\n",
    "        for i in range(len(nums)):\n",
    "            remain = target - nums[i]\n",
    "            if remain in nums[i + 1:]:\n",
    "                return [i, nums[i + 1:].index(remain) + i + 1]\n",
    "\n",
    "\n",
    "solution = Solution()\n",
    "ret = solution.twoSum([3, 2, 4], 6)\n",
    "print(ret)"
   ]
  },
  {
   "cell_type": "code",
   "execution_count": 13,
   "metadata": {},
   "outputs": [
    {
     "ename": "RecursionError",
     "evalue": "maximum recursion depth exceeded",
     "output_type": "error",
     "traceback": [
      "\u001b[0;31m---------------------------------------------------------------------------\u001b[0m",
      "\u001b[0;31mRecursionError\u001b[0m                            Traceback (most recent call last)",
      "Cell \u001b[0;32mIn[13], line 37\u001b[0m\n\u001b[1;32m     30\u001b[0m         \u001b[39mreturn\u001b[39;00m \u001b[39mself\u001b[39m\u001b[39m.\u001b[39mfindMedianSortedArrays(nums1, nums2)\n\u001b[1;32m     36\u001b[0m solution \u001b[39m=\u001b[39m Solution()\n\u001b[0;32m---> 37\u001b[0m ret \u001b[39m=\u001b[39m solution\u001b[39m.\u001b[39;49mfindMedianSortedArrays([\u001b[39m1\u001b[39;49m, \u001b[39m2\u001b[39;49m], [\u001b[39m3\u001b[39;49m, \u001b[39m4\u001b[39;49m])\n\u001b[1;32m     38\u001b[0m \u001b[39mprint\u001b[39m(ret)\n",
      "Cell \u001b[0;32mIn[13], line 30\u001b[0m, in \u001b[0;36mSolution.findMedianSortedArrays\u001b[0;34m(self, nums1, nums2)\u001b[0m\n\u001b[1;32m     27\u001b[0m maxNums \u001b[39m=\u001b[39m maxNums[:\u001b[39m-\u001b[39m\u001b[39m1\u001b[39m:]\n\u001b[1;32m     28\u001b[0m minNums \u001b[39m=\u001b[39m minNums[\u001b[39m1\u001b[39m:]\n\u001b[0;32m---> 30\u001b[0m \u001b[39mreturn\u001b[39;00m \u001b[39mself\u001b[39;49m\u001b[39m.\u001b[39;49mfindMedianSortedArrays(nums1, nums2)\n",
      "Cell \u001b[0;32mIn[13], line 30\u001b[0m, in \u001b[0;36mSolution.findMedianSortedArrays\u001b[0;34m(self, nums1, nums2)\u001b[0m\n\u001b[1;32m     27\u001b[0m maxNums \u001b[39m=\u001b[39m maxNums[:\u001b[39m-\u001b[39m\u001b[39m1\u001b[39m:]\n\u001b[1;32m     28\u001b[0m minNums \u001b[39m=\u001b[39m minNums[\u001b[39m1\u001b[39m:]\n\u001b[0;32m---> 30\u001b[0m \u001b[39mreturn\u001b[39;00m \u001b[39mself\u001b[39;49m\u001b[39m.\u001b[39;49mfindMedianSortedArrays(nums1, nums2)\n",
      "    \u001b[0;31m[... skipping similar frames: Solution.findMedianSortedArrays at line 30 (2962 times)]\u001b[0m\n",
      "Cell \u001b[0;32mIn[13], line 30\u001b[0m, in \u001b[0;36mSolution.findMedianSortedArrays\u001b[0;34m(self, nums1, nums2)\u001b[0m\n\u001b[1;32m     27\u001b[0m maxNums \u001b[39m=\u001b[39m maxNums[:\u001b[39m-\u001b[39m\u001b[39m1\u001b[39m:]\n\u001b[1;32m     28\u001b[0m minNums \u001b[39m=\u001b[39m minNums[\u001b[39m1\u001b[39m:]\n\u001b[0;32m---> 30\u001b[0m \u001b[39mreturn\u001b[39;00m \u001b[39mself\u001b[39;49m\u001b[39m.\u001b[39;49mfindMedianSortedArrays(nums1, nums2)\n",
      "Cell \u001b[0;32mIn[13], line 13\u001b[0m, in \u001b[0;36mSolution.findMedianSortedArrays\u001b[0;34m(self, nums1, nums2)\u001b[0m\n\u001b[1;32m     10\u001b[0m     \u001b[39melse\u001b[39;00m:\n\u001b[1;32m     11\u001b[0m         \u001b[39mreturn\u001b[39;00m nums[n \u001b[39m/\u001b[39m\u001b[39m/\u001b[39m \u001b[39m2\u001b[39m]\n\u001b[0;32m---> 13\u001b[0m \u001b[39mdef\u001b[39;00m \u001b[39mfindMedianSortedArrays\u001b[39m(\u001b[39mself\u001b[39m, nums1: List[\u001b[39mint\u001b[39m], nums2: List[\u001b[39mint\u001b[39m]) \u001b[39m-\u001b[39m\u001b[39m>\u001b[39m \u001b[39mfloat\u001b[39m:\n\u001b[1;32m     14\u001b[0m     n1 \u001b[39m=\u001b[39m \u001b[39mlen\u001b[39m(nums1); n2 \u001b[39m=\u001b[39m \u001b[39mlen\u001b[39m(nums2)\n\u001b[1;32m     16\u001b[0m     \u001b[39mif\u001b[39;00m n1 \u001b[39m==\u001b[39m \u001b[39m0\u001b[39m: \u001b[39mreturn\u001b[39;00m \u001b[39mself\u001b[39m\u001b[39m.\u001b[39mfindSingleSortedArrays(nums2)\n",
      "Cell \u001b[0;32mIn[13], line 13\u001b[0m, in \u001b[0;36mSolution.findMedianSortedArrays\u001b[0;34m(self, nums1, nums2)\u001b[0m\n\u001b[1;32m     10\u001b[0m     \u001b[39melse\u001b[39;00m:\n\u001b[1;32m     11\u001b[0m         \u001b[39mreturn\u001b[39;00m nums[n \u001b[39m/\u001b[39m\u001b[39m/\u001b[39m \u001b[39m2\u001b[39m]\n\u001b[0;32m---> 13\u001b[0m \u001b[39mdef\u001b[39;00m \u001b[39mfindMedianSortedArrays\u001b[39m(\u001b[39mself\u001b[39m, nums1: List[\u001b[39mint\u001b[39m], nums2: List[\u001b[39mint\u001b[39m]) \u001b[39m-\u001b[39m\u001b[39m>\u001b[39m \u001b[39mfloat\u001b[39m:\n\u001b[1;32m     14\u001b[0m     n1 \u001b[39m=\u001b[39m \u001b[39mlen\u001b[39m(nums1); n2 \u001b[39m=\u001b[39m \u001b[39mlen\u001b[39m(nums2)\n\u001b[1;32m     16\u001b[0m     \u001b[39mif\u001b[39;00m n1 \u001b[39m==\u001b[39m \u001b[39m0\u001b[39m: \u001b[39mreturn\u001b[39;00m \u001b[39mself\u001b[39m\u001b[39m.\u001b[39mfindSingleSortedArrays(nums2)\n",
      "\u001b[0;31mRecursionError\u001b[0m: maximum recursion depth exceeded"
     ]
    }
   ],
   "source": [
    "from typing import List\n",
    "\n",
    "class Solution:\n",
    "    def findSingleSortedArrays(self, nums: List[int]) -> float:\n",
    "        n = len(nums)\n",
    "        if n == 1:\n",
    "            return nums[0]\n",
    "        elif n % 2 == 0:\n",
    "            return (nums[n // 2 - 1] + nums[n // 2]) / 2\n",
    "        else:\n",
    "            return nums[n // 2]\n",
    "        \n",
    "    def findMedianSortedArrays(self, nums1: List[int], nums2: List[int]) -> float:\n",
    "        n1 = len(nums1); n2 = len(nums2)\n",
    "\n",
    "        if n1 == 0: return self.findSingleSortedArrays(nums2)\n",
    "        if n2 == 0: return self.findSingleSortedArrays(nums1)\n",
    "\n",
    "        if n1 == 1 & n2 == 1: return (nums1[0] + nums2[0]) / 2;\n",
    "\n",
    "        maxNums = nums1 if nums1[n1 - 1] > nums2[n2 - 1] else nums2\n",
    "        minNums = nums1 if nums1[0] < nums2[0] else nums2\n",
    "        \n",
    "        if (maxNums is minNums) & (len(maxNums) == 2): \n",
    "            return self.findSingleSortedArrays(nums1 if maxNums is nums2 else nums1);\n",
    "\n",
    "        maxNums = maxNums[:-1:]\n",
    "        minNums = minNums[1:]\n",
    "\n",
    "        return self.findMedianSortedArrays(nums1, nums2)\n",
    "\n",
    "        \n",
    "\n",
    "\n",
    "\n",
    "solution = Solution()\n",
    "ret = solution.findMedianSortedArrays([1, 2], [3, 4])\n",
    "print(ret)\n"
   ]
  },
  {
   "cell_type": "code",
   "execution_count": 28,
   "metadata": {},
   "outputs": [
    {
     "name": "stdout",
     "output_type": "stream",
     "text": [
      "<class 'float'>\n"
     ]
    }
   ],
   "source": [
    "array = [1, 2, 3, 4]\n",
    "print(type((array[0] + array[3]) / 2))"
   ]
  }
 ],
 "metadata": {
  "kernelspec": {
   "display_name": ".venv",
   "language": "python",
   "name": "python3"
  },
  "language_info": {
   "codemirror_mode": {
    "name": "ipython",
    "version": 3
   },
   "file_extension": ".py",
   "mimetype": "text/x-python",
   "name": "python",
   "nbconvert_exporter": "python",
   "pygments_lexer": "ipython3",
   "version": "3.11.3"
  },
  "orig_nbformat": 4
 },
 "nbformat": 4,
 "nbformat_minor": 2
}
